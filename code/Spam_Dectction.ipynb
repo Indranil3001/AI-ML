{
 "cells": [
  {
   "cell_type": "markdown",
   "id": "41209ff9",
   "metadata": {},
   "source": [
    "## B104 Artificial Intelligence and Machine Learning\n",
    "## Name- Indranil\n",
    "## Student No.- GH1026152\n",
    "## GitHub Repo.- https://github.com/Indranil3001/AI-ML\n",
    "## Data- https://www.kaggle.com/datasets/uciml/sms-spam-collection-dataset/data"
   ]
  },
  {
   "cell_type": "markdown",
   "id": "a7979054",
   "metadata": {},
   "source": [
    "## Business Problem"
   ]
  },
  {
   "cell_type": "markdown",
   "id": "e46c5d1a",
   "metadata": {},
   "source": [
    "Spam is a major challenge for individuals and organizations. It's not just a nuisance; it poses significant threats:\n",
    "\n",
    "1. Productivity Loss: Employees spend valuable time manually sifting through and deleting junk emails.\n",
    "\n",
    "2. Security Risks: Phishing emails, a common form of spam, trick users into revealing sensitive information like login credentials and financial data. Spam can also contain malware, which can compromise an organization's entire network.\n",
    "\n",
    "3. Resource Consumption: Spam consumes server storage, network bandwidth, and computing resources, increasing operational costs.\n",
    "\n",
    "4. Evolving Threats: Spammers constantly change their tactics, using new keywords, obfuscation techniques, and images to bypass traditional rule-based filters. This makes it difficult to maintain effective defense mechanisms manually.\n",
    "\n",
    "We have to develop a robust, adaptive, and scalable solution that can automatically and accurately identify and filter out spam emails. The main priority of the model is to precise even if it is less accurate as the model should not filter a 'ham' message and put it in 'spam' as it can lead to leaving out important messages. In other words, this must not only block spam but also minimize false positives (legitimate emails incorrectly marked as spam).\n",
    "\n",
    "\n",
    "Model Training: The vectorized data is fed into a machine learning algorithm. A classifier, such as Multinomial Naive Bayes, Support Vector Machine (SVM), or a deep learning model, learns the patterns that distinguish spam from legitimate emails. The model is trained on a portion of the dataset and validated on another to ensure it generalizes well.\n",
    "\n",
    "\n",
    "Model Evaluation: The model's performance is evaluated using metrics that are crucial for spam detection, such as precision and accuracy.\n",
    "\n",
    "Precision: The percentage of emails the model flagged as spam that were actually spam. High precision means fewer false positives.\n",
    "\n",
    "Deployment and Monitoring: The trained model is integrated into a live system (e.g., an email server). A continuous monitoring loop is essential to retrain the model with new data over time, as spammers' tactics evolve. This ensures the filter remains effective and adaptive."
   ]
  },
  {
   "cell_type": "code",
   "execution_count": 1,
   "id": "8b444406-e062-4a76-b0c2-f615f0149c80",
   "metadata": {},
   "outputs": [],
   "source": [
    "import numpy as np\n",
    "import pandas as pd\n",
    "import nltk\n",
    "from nltk.corpus import stopwords\n",
    "import string\n",
    "from nltk.stem.porter import PorterStemmer\n",
    "from sklearn.preprocessing import LabelEncoder\n",
    "from sklearn.model_selection import train_test_split\n",
    "from sklearn.feature_extraction.text import CountVectorizer, TfidfVectorizer\n",
    "from sklearn.naive_bayes import GaussianNB, MultinomialNB, BernoulliNB\n",
    "from sklearn.svm import SVC\n",
    "from sklearn.linear_model import LogisticRegression\n",
    "from sklearn.neighbors import KNeighborsClassifier\n",
    "from sklearn.metrics import accuracy_score, confusion_matrix, classification_report, precision_score, recall_score, f1_score\n",
    "import matplotlib.pyplot as plt\n",
    "import seaborn as sns"
   ]
  },
  {
   "cell_type": "markdown",
   "id": "6e9a7231",
   "metadata": {},
   "source": [
    "## Data Collection and Labelling"
   ]
  },
  {
   "cell_type": "markdown",
   "id": "4d9a663b",
   "metadata": {},
   "source": [
    "I gathered a large dataset of emails, each labeled as either \"spam\" or \"ham\" from Kaggle. I then lablled the data with \"spam\" = 1 and \"Ham\" = 0 to prepare the data for exploratory data analysis."
   ]
  },
  {
   "cell_type": "code",
   "execution_count": 4,
   "id": "071df52b-7358-4811-bdde-896c39df5007",
   "metadata": {},
   "outputs": [
    {
     "data": {
      "text/html": [
       "<div>\n",
       "<style scoped>\n",
       "    .dataframe tbody tr th:only-of-type {\n",
       "        vertical-align: middle;\n",
       "    }\n",
       "\n",
       "    .dataframe tbody tr th {\n",
       "        vertical-align: top;\n",
       "    }\n",
       "\n",
       "    .dataframe thead th {\n",
       "        text-align: right;\n",
       "    }\n",
       "</style>\n",
       "<table border=\"1\" class=\"dataframe\">\n",
       "  <thead>\n",
       "    <tr style=\"text-align: right;\">\n",
       "      <th></th>\n",
       "      <th>v1</th>\n",
       "      <th>v2</th>\n",
       "      <th>Unnamed: 2</th>\n",
       "      <th>Unnamed: 3</th>\n",
       "      <th>Unnamed: 4</th>\n",
       "    </tr>\n",
       "  </thead>\n",
       "  <tbody>\n",
       "    <tr>\n",
       "      <th>835</th>\n",
       "      <td>ham</td>\n",
       "      <td>Good Morning my Dear........... Have a great &amp;...</td>\n",
       "      <td>NaN</td>\n",
       "      <td>NaN</td>\n",
       "      <td>NaN</td>\n",
       "    </tr>\n",
       "    <tr>\n",
       "      <th>4639</th>\n",
       "      <td>ham</td>\n",
       "      <td>Do you hide anythiing or keeping distance from me</td>\n",
       "      <td>NaN</td>\n",
       "      <td>NaN</td>\n",
       "      <td>NaN</td>\n",
       "    </tr>\n",
       "    <tr>\n",
       "      <th>832</th>\n",
       "      <td>spam</td>\n",
       "      <td>Dear Voucher Holder, To claim this weeks offer...</td>\n",
       "      <td>NaN</td>\n",
       "      <td>NaN</td>\n",
       "      <td>NaN</td>\n",
       "    </tr>\n",
       "    <tr>\n",
       "      <th>1322</th>\n",
       "      <td>ham</td>\n",
       "      <td>Oh just getting even with u.... u?</td>\n",
       "      <td>NaN</td>\n",
       "      <td>NaN</td>\n",
       "      <td>NaN</td>\n",
       "    </tr>\n",
       "    <tr>\n",
       "      <th>711</th>\n",
       "      <td>ham</td>\n",
       "      <td>It just seems like weird timing that the night...</td>\n",
       "      <td>NaN</td>\n",
       "      <td>NaN</td>\n",
       "      <td>NaN</td>\n",
       "    </tr>\n",
       "  </tbody>\n",
       "</table>\n",
       "</div>"
      ],
      "text/plain": [
       "        v1                                                 v2 Unnamed: 2  \\\n",
       "835    ham  Good Morning my Dear........... Have a great &...        NaN   \n",
       "4639   ham  Do you hide anythiing or keeping distance from me        NaN   \n",
       "832   spam  Dear Voucher Holder, To claim this weeks offer...        NaN   \n",
       "1322   ham                 Oh just getting even with u.... u?        NaN   \n",
       "711    ham  It just seems like weird timing that the night...        NaN   \n",
       "\n",
       "     Unnamed: 3 Unnamed: 4  \n",
       "835         NaN        NaN  \n",
       "4639        NaN        NaN  \n",
       "832         NaN        NaN  \n",
       "1322        NaN        NaN  \n",
       "711         NaN        NaN  "
      ]
     },
     "execution_count": 4,
     "metadata": {},
     "output_type": "execute_result"
    }
   ],
   "source": [
    "df = pd.read_csv(r\"C:\\Users\\indra\\Desktop\\1st Sem\\Qtr 8\\AI and ML\\spam.csv\", encoding='latin1')\n",
    "\n",
    "df.sample(5)"
   ]
  },
  {
   "cell_type": "code",
   "execution_count": 5,
   "id": "22bdd6a9-e255-49d8-a401-ba2ad028f516",
   "metadata": {},
   "outputs": [
    {
     "data": {
      "text/plain": [
       "(5572, 5)"
      ]
     },
     "execution_count": 5,
     "metadata": {},
     "output_type": "execute_result"
    }
   ],
   "source": [
    "df.shape"
   ]
  },
  {
   "cell_type": "markdown",
   "id": "3f98ae0f",
   "metadata": {},
   "source": [
    "## "
   ]
  },
  {
   "cell_type": "code",
   "execution_count": 6,
   "id": "4243c979",
   "metadata": {},
   "outputs": [
    {
     "name": "stdout",
     "output_type": "stream",
     "text": [
      "<class 'pandas.core.frame.DataFrame'>\n",
      "RangeIndex: 5572 entries, 0 to 5571\n",
      "Data columns (total 5 columns):\n",
      " #   Column      Non-Null Count  Dtype \n",
      "---  ------      --------------  ----- \n",
      " 0   v1          5572 non-null   object\n",
      " 1   v2          5572 non-null   object\n",
      " 2   Unnamed: 2  50 non-null     object\n",
      " 3   Unnamed: 3  12 non-null     object\n",
      " 4   Unnamed: 4  6 non-null      object\n",
      "dtypes: object(5)\n",
      "memory usage: 217.8+ KB\n"
     ]
    }
   ],
   "source": [
    "df.info()"
   ]
  },
  {
   "cell_type": "markdown",
   "id": "3ff3f619",
   "metadata": {},
   "source": [
    "Since the last three colums have a lot of null values we drop them as they are not necessary for our analysis"
   ]
  },
  {
   "cell_type": "code",
   "execution_count": 8,
   "id": "31caf527",
   "metadata": {},
   "outputs": [],
   "source": [
    "df.drop(columns=['Unnamed: 2', 'Unnamed: 3', 'Unnamed: 4'], inplace=True, errors='ignore')"
   ]
  },
  {
   "cell_type": "code",
   "execution_count": 9,
   "id": "03d8cd9c",
   "metadata": {},
   "outputs": [
    {
     "data": {
      "text/html": [
       "<div>\n",
       "<style scoped>\n",
       "    .dataframe tbody tr th:only-of-type {\n",
       "        vertical-align: middle;\n",
       "    }\n",
       "\n",
       "    .dataframe tbody tr th {\n",
       "        vertical-align: top;\n",
       "    }\n",
       "\n",
       "    .dataframe thead th {\n",
       "        text-align: right;\n",
       "    }\n",
       "</style>\n",
       "<table border=\"1\" class=\"dataframe\">\n",
       "  <thead>\n",
       "    <tr style=\"text-align: right;\">\n",
       "      <th></th>\n",
       "      <th>v1</th>\n",
       "      <th>v2</th>\n",
       "    </tr>\n",
       "  </thead>\n",
       "  <tbody>\n",
       "    <tr>\n",
       "      <th>2281</th>\n",
       "      <td>ham</td>\n",
       "      <td>I hav almost reached. Call, i m unable to conn...</td>\n",
       "    </tr>\n",
       "    <tr>\n",
       "      <th>4359</th>\n",
       "      <td>ham</td>\n",
       "      <td>Night sweet, sleep well! I've just been to see...</td>\n",
       "    </tr>\n",
       "    <tr>\n",
       "      <th>1832</th>\n",
       "      <td>ham</td>\n",
       "      <td>What time is ur flight tmr?</td>\n",
       "    </tr>\n",
       "    <tr>\n",
       "      <th>3579</th>\n",
       "      <td>ham</td>\n",
       "      <td>Have a lovely night and when you wake up to se...</td>\n",
       "    </tr>\n",
       "    <tr>\n",
       "      <th>3635</th>\n",
       "      <td>ham</td>\n",
       "      <td>\\ME 2 BABE I FEEL THE SAME LETS JUST 4GET ABOU...</td>\n",
       "    </tr>\n",
       "  </tbody>\n",
       "</table>\n",
       "</div>"
      ],
      "text/plain": [
       "       v1                                                 v2\n",
       "2281  ham  I hav almost reached. Call, i m unable to conn...\n",
       "4359  ham  Night sweet, sleep well! I've just been to see...\n",
       "1832  ham                        What time is ur flight tmr?\n",
       "3579  ham  Have a lovely night and when you wake up to se...\n",
       "3635  ham  \\ME 2 BABE I FEEL THE SAME LETS JUST 4GET ABOU..."
      ]
     },
     "execution_count": 9,
     "metadata": {},
     "output_type": "execute_result"
    }
   ],
   "source": [
    "df.sample(5)"
   ]
  },
  {
   "cell_type": "markdown",
   "id": "e15dc5b3",
   "metadata": {},
   "source": [
    "Since, the column names does not tell give us much information about the arget and the text column, I will be changing them for better understanding of the dataset"
   ]
  },
  {
   "cell_type": "code",
   "execution_count": 10,
   "id": "ef8ccb69",
   "metadata": {},
   "outputs": [
    {
     "data": {
      "text/html": [
       "<div>\n",
       "<style scoped>\n",
       "    .dataframe tbody tr th:only-of-type {\n",
       "        vertical-align: middle;\n",
       "    }\n",
       "\n",
       "    .dataframe tbody tr th {\n",
       "        vertical-align: top;\n",
       "    }\n",
       "\n",
       "    .dataframe thead th {\n",
       "        text-align: right;\n",
       "    }\n",
       "</style>\n",
       "<table border=\"1\" class=\"dataframe\">\n",
       "  <thead>\n",
       "    <tr style=\"text-align: right;\">\n",
       "      <th></th>\n",
       "      <th>target</th>\n",
       "      <th>text</th>\n",
       "    </tr>\n",
       "  </thead>\n",
       "  <tbody>\n",
       "    <tr>\n",
       "      <th>586</th>\n",
       "      <td>ham</td>\n",
       "      <td>I dun thk i'll quit yet... Hmmm, can go jazz ?...</td>\n",
       "    </tr>\n",
       "    <tr>\n",
       "      <th>1607</th>\n",
       "      <td>ham</td>\n",
       "      <td>Jus telling u dat i'll b leaving 4 shanghai on...</td>\n",
       "    </tr>\n",
       "    <tr>\n",
       "      <th>926</th>\n",
       "      <td>ham</td>\n",
       "      <td>But I'm on a diet. And I ate 1 too many slices...</td>\n",
       "    </tr>\n",
       "    <tr>\n",
       "      <th>672</th>\n",
       "      <td>spam</td>\n",
       "      <td>Get ur 1st RINGTONE FREE NOW! Reply to this ms...</td>\n",
       "    </tr>\n",
       "    <tr>\n",
       "      <th>4814</th>\n",
       "      <td>ham</td>\n",
       "      <td>ÌÏ no home work to do meh...</td>\n",
       "    </tr>\n",
       "  </tbody>\n",
       "</table>\n",
       "</div>"
      ],
      "text/plain": [
       "     target                                               text\n",
       "586     ham  I dun thk i'll quit yet... Hmmm, can go jazz ?...\n",
       "1607    ham  Jus telling u dat i'll b leaving 4 shanghai on...\n",
       "926     ham  But I'm on a diet. And I ate 1 too many slices...\n",
       "672    spam  Get ur 1st RINGTONE FREE NOW! Reply to this ms...\n",
       "4814    ham                      ÌÏ no home work to do meh... "
      ]
     },
     "execution_count": 10,
     "metadata": {},
     "output_type": "execute_result"
    }
   ],
   "source": [
    "#ranaming the columns\n",
    "df.rename(columns={'v1': 'target', 'v2': 'text'}, inplace=True)\n",
    "df.sample(5)"
   ]
  },
  {
   "cell_type": "markdown",
   "id": "c60c2e4c",
   "metadata": {},
   "source": [
    "Our 'target' has just two values \"ham\" and \"spam\" so I will encode them to numerical value ham = 0 and spam = 1 using lable encoder"
   ]
  },
  {
   "cell_type": "code",
   "execution_count": 11,
   "id": "adf39927",
   "metadata": {},
   "outputs": [],
   "source": [
    "\n",
    "encoder = LabelEncoder()\n"
   ]
  },
  {
   "cell_type": "code",
   "execution_count": 12,
   "id": "e4a68f0d",
   "metadata": {},
   "outputs": [],
   "source": [
    "df['target'] = encoder.fit_transform(df['target'])"
   ]
  },
  {
   "cell_type": "code",
   "execution_count": 13,
   "id": "7a17ebdc",
   "metadata": {},
   "outputs": [
    {
     "data": {
      "text/html": [
       "<div>\n",
       "<style scoped>\n",
       "    .dataframe tbody tr th:only-of-type {\n",
       "        vertical-align: middle;\n",
       "    }\n",
       "\n",
       "    .dataframe tbody tr th {\n",
       "        vertical-align: top;\n",
       "    }\n",
       "\n",
       "    .dataframe thead th {\n",
       "        text-align: right;\n",
       "    }\n",
       "</style>\n",
       "<table border=\"1\" class=\"dataframe\">\n",
       "  <thead>\n",
       "    <tr style=\"text-align: right;\">\n",
       "      <th></th>\n",
       "      <th>target</th>\n",
       "      <th>text</th>\n",
       "    </tr>\n",
       "  </thead>\n",
       "  <tbody>\n",
       "    <tr>\n",
       "      <th>0</th>\n",
       "      <td>0</td>\n",
       "      <td>Go until jurong point, crazy.. Available only ...</td>\n",
       "    </tr>\n",
       "    <tr>\n",
       "      <th>1</th>\n",
       "      <td>0</td>\n",
       "      <td>Ok lar... Joking wif u oni...</td>\n",
       "    </tr>\n",
       "    <tr>\n",
       "      <th>2</th>\n",
       "      <td>1</td>\n",
       "      <td>Free entry in 2 a wkly comp to win FA Cup fina...</td>\n",
       "    </tr>\n",
       "    <tr>\n",
       "      <th>3</th>\n",
       "      <td>0</td>\n",
       "      <td>U dun say so early hor... U c already then say...</td>\n",
       "    </tr>\n",
       "    <tr>\n",
       "      <th>4</th>\n",
       "      <td>0</td>\n",
       "      <td>Nah I don't think he goes to usf, he lives aro...</td>\n",
       "    </tr>\n",
       "  </tbody>\n",
       "</table>\n",
       "</div>"
      ],
      "text/plain": [
       "   target                                               text\n",
       "0       0  Go until jurong point, crazy.. Available only ...\n",
       "1       0                      Ok lar... Joking wif u oni...\n",
       "2       1  Free entry in 2 a wkly comp to win FA Cup fina...\n",
       "3       0  U dun say so early hor... U c already then say...\n",
       "4       0  Nah I don't think he goes to usf, he lives aro..."
      ]
     },
     "execution_count": 13,
     "metadata": {},
     "output_type": "execute_result"
    }
   ],
   "source": [
    "df.head()"
   ]
  },
  {
   "cell_type": "code",
   "execution_count": 14,
   "id": "53e42e2d",
   "metadata": {},
   "outputs": [
    {
     "data": {
      "text/plain": [
       "target    0\n",
       "text      0\n",
       "dtype: int64"
      ]
     },
     "execution_count": 14,
     "metadata": {},
     "output_type": "execute_result"
    }
   ],
   "source": [
    "#Checking for Missng values\n",
    "\n",
    "df.isnull().sum()"
   ]
  },
  {
   "cell_type": "code",
   "execution_count": 15,
   "id": "6ed27296",
   "metadata": {},
   "outputs": [
    {
     "data": {
      "text/plain": [
       "np.int64(403)"
      ]
     },
     "execution_count": 15,
     "metadata": {},
     "output_type": "execute_result"
    }
   ],
   "source": [
    "#checking for duplicate values\n",
    "df.duplicated().sum()"
   ]
  },
  {
   "cell_type": "markdown",
   "id": "df06ffc6",
   "metadata": {},
   "source": [
    "There are 403 duplicate values. We will remove the duplicate values before training the model "
   ]
  },
  {
   "cell_type": "code",
   "execution_count": 16,
   "id": "c61f078a",
   "metadata": {},
   "outputs": [
    {
     "data": {
      "text/plain": [
       "np.int64(0)"
      ]
     },
     "execution_count": 16,
     "metadata": {},
     "output_type": "execute_result"
    }
   ],
   "source": [
    "df = df.drop_duplicates(keep='first')\n",
    "df.duplicated().sum()"
   ]
  },
  {
   "cell_type": "code",
   "execution_count": 17,
   "id": "5c09b96a",
   "metadata": {},
   "outputs": [
    {
     "data": {
      "text/plain": [
       "(5169, 2)"
      ]
     },
     "execution_count": 17,
     "metadata": {},
     "output_type": "execute_result"
    }
   ],
   "source": [
    "df.shape"
   ]
  },
  {
   "cell_type": "markdown",
   "id": "d484a8d0",
   "metadata": {},
   "source": [
    "I will split the data into test and train model and do aal the exploratory data analysis on the \"train\" data set and applying the same on the \"test\" data set."
   ]
  },
  {
   "cell_type": "code",
   "execution_count": 18,
   "id": "9d0ca6ab",
   "metadata": {},
   "outputs": [],
   "source": [
    "\n",
    "\n",
    "X=df.drop(columns='target', axis=1)\n",
    "y=df['target']\n",
    "\n",
    "X_train, X_test, y_train, y_test = train_test_split(X, y, test_size=0.2, random_state=2)"
   ]
  },
  {
   "cell_type": "markdown",
   "id": "01b89d3e",
   "metadata": {},
   "source": [
    "## Data Exploration/ EDA"
   ]
  },
  {
   "cell_type": "code",
   "execution_count": 19,
   "id": "584e2c7f",
   "metadata": {},
   "outputs": [
    {
     "data": {
      "text/plain": [
       "target\n",
       "0    3620\n",
       "1     515\n",
       "Name: count, dtype: int64"
      ]
     },
     "execution_count": 19,
     "metadata": {},
     "output_type": "execute_result"
    }
   ],
   "source": [
    "y_train.value_counts()"
   ]
  },
  {
   "cell_type": "code",
   "execution_count": 20,
   "id": "4eb5f5af",
   "metadata": {},
   "outputs": [
    {
     "data": {
      "image/png": "[encoded data removed]",
      "text/plain": [
       "<Figure size 640x480 with 1 Axes>"
      ]
     },
     "metadata": {},
     "output_type": "display_data"
    }
   ],
   "source": [
    "\n",
    "counts = y_train.value_counts()\n",
    "plt.bar(['ham', 'spam'], counts)\n",
    "plt.xlabel('Class')\n",
    "plt.ylabel('Count')\n",
    "plt.title('Distribution of Ham and Spam in Training Data')\n",
    "plt.show()"
   ]
  },
  {
   "cell_type": "markdown",
   "id": "2e509ab8",
   "metadata": {},
   "source": [
    "This dataset is an imbalanced dataset as it has more 'ham'(=3620) values and less 'spam'(=515) and for an imbalanced dataset, it is a classification problem."
   ]
  },
  {
   "cell_type": "code",
   "execution_count": 21,
   "id": "617f1112",
   "metadata": {},
   "outputs": [
    {
     "name": "stderr",
     "output_type": "stream",
     "text": [
      "[nltk_data] Downloading package punkt to\n",
      "[nltk_data]     C:\\Users\\indra\\AppData\\Roaming\\nltk_data...\n",
      "[nltk_data]   Package punkt is already up-to-date!\n"
     ]
    },
    {
     "data": {
      "text/plain": [
       "True"
      ]
     },
     "execution_count": 21,
     "metadata": {},
     "output_type": "execute_result"
    }
   ],
   "source": [
    "\n",
    "nltk.download('punkt')"
   ]
  },
  {
   "cell_type": "markdown",
   "id": "70af2a12",
   "metadata": {},
   "source": [
    "To explore the data further, I am creating new features (number of characters, number of words and number of sentences). This helps us understand the data better."
   ]
  },
  {
   "cell_type": "code",
   "execution_count": 22,
   "id": "cb70bb8e",
   "metadata": {},
   "outputs": [
    {
     "data": {
      "text/html": [
       "<div>\n",
       "<style scoped>\n",
       "    .dataframe tbody tr th:only-of-type {\n",
       "        vertical-align: middle;\n",
       "    }\n",
       "\n",
       "    .dataframe tbody tr th {\n",
       "        vertical-align: top;\n",
       "    }\n",
       "\n",
       "    .dataframe thead th {\n",
       "        text-align: right;\n",
       "    }\n",
       "</style>\n",
       "<table border=\"1\" class=\"dataframe\">\n",
       "  <thead>\n",
       "    <tr style=\"text-align: right;\">\n",
       "      <th></th>\n",
       "      <th>text</th>\n",
       "      <th>num_char</th>\n",
       "    </tr>\n",
       "  </thead>\n",
       "  <tbody>\n",
       "    <tr>\n",
       "      <th>4228</th>\n",
       "      <td>Have you bookedthe hut? And also your time off...</td>\n",
       "      <td>71</td>\n",
       "    </tr>\n",
       "    <tr>\n",
       "      <th>3061</th>\n",
       "      <td>Fine. Do you remember me.</td>\n",
       "      <td>25</td>\n",
       "    </tr>\n",
       "    <tr>\n",
       "      <th>3345</th>\n",
       "      <td>U're welcome... Caught u using broken english ...</td>\n",
       "      <td>54</td>\n",
       "    </tr>\n",
       "    <tr>\n",
       "      <th>3463</th>\n",
       "      <td>My phone</td>\n",
       "      <td>8</td>\n",
       "    </tr>\n",
       "    <tr>\n",
       "      <th>2649</th>\n",
       "      <td>You might want to pull out more just in case a...</td>\n",
       "      <td>157</td>\n",
       "    </tr>\n",
       "  </tbody>\n",
       "</table>\n",
       "</div>"
      ],
      "text/plain": [
       "                                                   text  num_char\n",
       "4228  Have you bookedthe hut? And also your time off...        71\n",
       "3061                          Fine. Do you remember me.        25\n",
       "3345  U're welcome... Caught u using broken english ...        54\n",
       "3463                                           My phone         8\n",
       "2649  You might want to pull out more just in case a...       157"
      ]
     },
     "execution_count": 22,
     "metadata": {},
     "output_type": "execute_result"
    }
   ],
   "source": [
    "# number of characters\n",
    "X_train['num_char']=X_train['text'].apply(len)\n",
    "X_test['num_char']=X_test['text'].apply(len)\n",
    "X_train.head()"
   ]
  },
  {
   "cell_type": "code",
   "execution_count": 23,
   "id": "4ef52e6d",
   "metadata": {},
   "outputs": [
    {
     "name": "stderr",
     "output_type": "stream",
     "text": [
      "[nltk_data] Downloading package punkt_tab to\n",
      "[nltk_data]     C:\\Users\\indra\\AppData\\Roaming\\nltk_data...\n",
      "[nltk_data]   Package punkt_tab is already up-to-date!\n"
     ]
    },
    {
     "data": {
      "text/html": [
       "<div>\n",
       "<style scoped>\n",
       "    .dataframe tbody tr th:only-of-type {\n",
       "        vertical-align: middle;\n",
       "    }\n",
       "\n",
       "    .dataframe tbody tr th {\n",
       "        vertical-align: top;\n",
       "    }\n",
       "\n",
       "    .dataframe thead th {\n",
       "        text-align: right;\n",
       "    }\n",
       "</style>\n",
       "<table border=\"1\" class=\"dataframe\">\n",
       "  <thead>\n",
       "    <tr style=\"text-align: right;\">\n",
       "      <th></th>\n",
       "      <th>text</th>\n",
       "      <th>num_char</th>\n",
       "      <th>num_words</th>\n",
       "    </tr>\n",
       "  </thead>\n",
       "  <tbody>\n",
       "    <tr>\n",
       "      <th>4228</th>\n",
       "      <td>Have you bookedthe hut? And also your time off...</td>\n",
       "      <td>71</td>\n",
       "      <td>18</td>\n",
       "    </tr>\n",
       "    <tr>\n",
       "      <th>3061</th>\n",
       "      <td>Fine. Do you remember me.</td>\n",
       "      <td>25</td>\n",
       "      <td>7</td>\n",
       "    </tr>\n",
       "    <tr>\n",
       "      <th>3345</th>\n",
       "      <td>U're welcome... Caught u using broken english ...</td>\n",
       "      <td>54</td>\n",
       "      <td>11</td>\n",
       "    </tr>\n",
       "    <tr>\n",
       "      <th>3463</th>\n",
       "      <td>My phone</td>\n",
       "      <td>8</td>\n",
       "      <td>2</td>\n",
       "    </tr>\n",
       "    <tr>\n",
       "      <th>2649</th>\n",
       "      <td>You might want to pull out more just in case a...</td>\n",
       "      <td>157</td>\n",
       "      <td>34</td>\n",
       "    </tr>\n",
       "  </tbody>\n",
       "</table>\n",
       "</div>"
      ],
      "text/plain": [
       "                                                   text  num_char  num_words\n",
       "4228  Have you bookedthe hut? And also your time off...        71         18\n",
       "3061                          Fine. Do you remember me.        25          7\n",
       "3345  U're welcome... Caught u using broken english ...        54         11\n",
       "3463                                           My phone         8          2\n",
       "2649  You might want to pull out more just in case a...       157         34"
      ]
     },
     "execution_count": 23,
     "metadata": {},
     "output_type": "execute_result"
    }
   ],
   "source": [
    "\n",
    "nltk.download('punkt_tab')\n",
    "\n",
    "# number of words\n",
    "X_train['num_words'] = X_train['text'].apply(lambda x: len(nltk.word_tokenize(x)))\n",
    "X_test['num_words'] = X_test['text'].apply(lambda x: len(nltk.word_tokenize(x)))\n",
    "X_train.head()"
   ]
  },
  {
   "cell_type": "code",
   "execution_count": 24,
   "id": "c93e95d4",
   "metadata": {},
   "outputs": [
    {
     "data": {
      "text/html": [
       "<div>\n",
       "<style scoped>\n",
       "    .dataframe tbody tr th:only-of-type {\n",
       "        vertical-align: middle;\n",
       "    }\n",
       "\n",
       "    .dataframe tbody tr th {\n",
       "        vertical-align: top;\n",
       "    }\n",
       "\n",
       "    .dataframe thead th {\n",
       "        text-align: right;\n",
       "    }\n",
       "</style>\n",
       "<table border=\"1\" class=\"dataframe\">\n",
       "  <thead>\n",
       "    <tr style=\"text-align: right;\">\n",
       "      <th></th>\n",
       "      <th>text</th>\n",
       "      <th>num_char</th>\n",
       "      <th>num_words</th>\n",
       "      <th>num_sent</th>\n",
       "    </tr>\n",
       "  </thead>\n",
       "  <tbody>\n",
       "    <tr>\n",
       "      <th>4228</th>\n",
       "      <td>Have you bookedthe hut? And also your time off...</td>\n",
       "      <td>71</td>\n",
       "      <td>18</td>\n",
       "      <td>3</td>\n",
       "    </tr>\n",
       "    <tr>\n",
       "      <th>3061</th>\n",
       "      <td>Fine. Do you remember me.</td>\n",
       "      <td>25</td>\n",
       "      <td>7</td>\n",
       "      <td>2</td>\n",
       "    </tr>\n",
       "    <tr>\n",
       "      <th>3345</th>\n",
       "      <td>U're welcome... Caught u using broken english ...</td>\n",
       "      <td>54</td>\n",
       "      <td>11</td>\n",
       "      <td>2</td>\n",
       "    </tr>\n",
       "    <tr>\n",
       "      <th>3463</th>\n",
       "      <td>My phone</td>\n",
       "      <td>8</td>\n",
       "      <td>2</td>\n",
       "      <td>1</td>\n",
       "    </tr>\n",
       "    <tr>\n",
       "      <th>2649</th>\n",
       "      <td>You might want to pull out more just in case a...</td>\n",
       "      <td>157</td>\n",
       "      <td>34</td>\n",
       "      <td>1</td>\n",
       "    </tr>\n",
       "  </tbody>\n",
       "</table>\n",
       "</div>"
      ],
      "text/plain": [
       "                                                   text  num_char  num_words  \\\n",
       "4228  Have you bookedthe hut? And also your time off...        71         18   \n",
       "3061                          Fine. Do you remember me.        25          7   \n",
       "3345  U're welcome... Caught u using broken english ...        54         11   \n",
       "3463                                           My phone         8          2   \n",
       "2649  You might want to pull out more just in case a...       157         34   \n",
       "\n",
       "      num_sent  \n",
       "4228         3  \n",
       "3061         2  \n",
       "3345         2  \n",
       "3463         1  \n",
       "2649         1  "
      ]
     },
     "execution_count": 24,
     "metadata": {},
     "output_type": "execute_result"
    }
   ],
   "source": [
    "# number of sentences\n",
    "X_train['num_sent'] = X_train['text'].apply(lambda x: len(nltk.sent_tokenize(x)))\n",
    "X_test['num_sent'] = X_test['text'].apply(lambda x: len(nltk.sent_tokenize(x)))\n",
    "X_train.head()\n"
   ]
  },
  {
   "cell_type": "code",
   "execution_count": 25,
   "id": "eaf6f88e",
   "metadata": {},
   "outputs": [
    {
     "data": {
      "text/html": [
       "<div>\n",
       "<style scoped>\n",
       "    .dataframe tbody tr th:only-of-type {\n",
       "        vertical-align: middle;\n",
       "    }\n",
       "\n",
       "    .dataframe tbody tr th {\n",
       "        vertical-align: top;\n",
       "    }\n",
       "\n",
       "    .dataframe thead th {\n",
       "        text-align: right;\n",
       "    }\n",
       "</style>\n",
       "<table border=\"1\" class=\"dataframe\">\n",
       "  <thead>\n",
       "    <tr style=\"text-align: right;\">\n",
       "      <th></th>\n",
       "      <th>num_char</th>\n",
       "      <th>num_words</th>\n",
       "      <th>num_sent</th>\n",
       "    </tr>\n",
       "  </thead>\n",
       "  <tbody>\n",
       "    <tr>\n",
       "      <th>count</th>\n",
       "      <td>4135.000000</td>\n",
       "      <td>4135.000000</td>\n",
       "      <td>4135.000000</td>\n",
       "    </tr>\n",
       "    <tr>\n",
       "      <th>mean</th>\n",
       "      <td>79.328900</td>\n",
       "      <td>18.582830</td>\n",
       "      <td>1.975333</td>\n",
       "    </tr>\n",
       "    <tr>\n",
       "      <th>std</th>\n",
       "      <td>59.490936</td>\n",
       "      <td>13.718905</td>\n",
       "      <td>1.480030</td>\n",
       "    </tr>\n",
       "    <tr>\n",
       "      <th>min</th>\n",
       "      <td>2.000000</td>\n",
       "      <td>1.000000</td>\n",
       "      <td>1.000000</td>\n",
       "    </tr>\n",
       "    <tr>\n",
       "      <th>25%</th>\n",
       "      <td>36.000000</td>\n",
       "      <td>9.000000</td>\n",
       "      <td>1.000000</td>\n",
       "    </tr>\n",
       "    <tr>\n",
       "      <th>50%</th>\n",
       "      <td>61.000000</td>\n",
       "      <td>15.000000</td>\n",
       "      <td>2.000000</td>\n",
       "    </tr>\n",
       "    <tr>\n",
       "      <th>75%</th>\n",
       "      <td>116.000000</td>\n",
       "      <td>26.000000</td>\n",
       "      <td>2.000000</td>\n",
       "    </tr>\n",
       "    <tr>\n",
       "      <th>max</th>\n",
       "      <td>910.000000</td>\n",
       "      <td>220.000000</td>\n",
       "      <td>38.000000</td>\n",
       "    </tr>\n",
       "  </tbody>\n",
       "</table>\n",
       "</div>"
      ],
      "text/plain": [
       "          num_char    num_words     num_sent\n",
       "count  4135.000000  4135.000000  4135.000000\n",
       "mean     79.328900    18.582830     1.975333\n",
       "std      59.490936    13.718905     1.480030\n",
       "min       2.000000     1.000000     1.000000\n",
       "25%      36.000000     9.000000     1.000000\n",
       "50%      61.000000    15.000000     2.000000\n",
       "75%     116.000000    26.000000     2.000000\n",
       "max     910.000000   220.000000    38.000000"
      ]
     },
     "execution_count": 25,
     "metadata": {},
     "output_type": "execute_result"
    }
   ],
   "source": [
    "X_train[['num_char', 'num_words', 'num_sent']].describe()"
   ]
  },
  {
   "cell_type": "code",
   "execution_count": null,
   "id": "213ff176",
   "metadata": {},
   "outputs": [],
   "source": [
    "\n",
    "\n"
   ]
  },
  {
   "cell_type": "code",
   "execution_count": 26,
   "id": "b4f372d4",
   "metadata": {},
   "outputs": [
    {
     "data": {
      "image/png": "[encoded data removed]",
      "text/plain": [
       "<Figure size 640x480 with 1 Axes>"
      ]
     },
     "metadata": {},
     "output_type": "display_data"
    },
    {
     "data": {
      "text/plain": [
       "<Figure size 1200x800 with 0 Axes>"
      ]
     },
     "metadata": {},
     "output_type": "display_data"
    }
   ],
   "source": [
    "# visualising it with histograms\n",
    "\n",
    "# number of characters\n",
    "sns.histplot(data=X_train, x='num_char', hue=y_train, bins=50, kde=True)\n",
    "plt.figure(figsize=(12,8))\n",
    "plt.show()"
   ]
  },
  {
   "cell_type": "code",
   "execution_count": 27,
   "id": "e40f286f",
   "metadata": {},
   "outputs": [
    {
     "data": {
      "image/png": "[encoded data removed]",
      "text/plain": [
       "<Figure size 640x480 with 1 Axes>"
      ]
     },
     "metadata": {},
     "output_type": "display_data"
    },
    {
     "data": {
      "text/plain": [
       "<Figure size 1200x800 with 0 Axes>"
      ]
     },
     "metadata": {},
     "output_type": "display_data"
    }
   ],
   "source": [
    "# number of words\n",
    "sns.histplot(data=X_train, x='num_words', hue=y_train, bins=50, kde=True)\n",
    "plt.figure(figsize=(12,8))\n",
    "plt.show()"
   ]
  },
  {
   "cell_type": "code",
   "execution_count": 28,
   "id": "1f3e0e97",
   "metadata": {},
   "outputs": [
    {
     "data": {
      "image/png": "[encoded data removed]",
      "text/plain": [
       "<Figure size 808.875x750 with 12 Axes>"
      ]
     },
     "metadata": {},
     "output_type": "display_data"
    }
   ],
   "source": [
    "X_train_plot = X_train.copy()\n",
    "X_train_plot['target'] = y_train.values\n",
    "sns.pairplot(X_train_plot, hue='target')\n",
    "plt.show()"
   ]
  },
  {
   "cell_type": "code",
   "execution_count": 29,
   "id": "b796bee0",
   "metadata": {},
   "outputs": [
    {
     "data": {
      "text/plain": [
       "<Axes: >"
      ]
     },
     "execution_count": 29,
     "metadata": {},
     "output_type": "execute_result"
    },
    {
     "data": {
      "image/png": "[encoded data removed]",
      "text/plain": [
       "<Figure size 640x480 with 2 Axes>"
      ]
     },
     "metadata": {},
     "output_type": "display_data"
    }
   ],
   "source": [
    "# correlation matrix for numeric columns\n",
    "sns.heatmap(X_train_plot[['target', 'num_char', 'num_words', 'num_sent']].corr(),annot=True)"
   ]
  },
  {
   "cell_type": "markdown",
   "id": "c15e7319",
   "metadata": {},
   "source": [
    "Target has 0.37 correlation with the number of character ('num_char'). This suggests that higher the number of characters, higher is the chance of the message being a spam message. Similar trend is seen with respect to the number of words('num_words'=0.26) and the number of sentences('num_sent'=0.26).\n",
    "\n",
    "We also notice a strong colinearity between num_char, num_words and num_sent. We will only choose num_char for our model building as it has  the strongest correlation with the target."
   ]
  },
  {
   "cell_type": "markdown",
   "id": "bb2bea25",
   "metadata": {},
   "source": [
    "## Data Preprocessing / Text Preprocessing"
   ]
  },
  {
   "cell_type": "markdown",
   "id": "3c8086e5",
   "metadata": {},
   "source": [
    "In data preprocessing for text data, we need to transform the text into numerical format for the machine to understand it:\n",
    "1. Lower case: We need to convert the whole of the text into lower case.\n",
    "2. Tokenization: We need to break down sentences into individual words or \"tokens.\"\n",
    "3. Removing special characters\n",
    "4. Removing puntuation ('.',','?','!',';') and stop words ('is', 'or', 'the', 'and' etc.) as it doesn't add much meaning for the machine\n",
    "5. Stemming"
   ]
  },
  {
   "cell_type": "code",
   "execution_count": 30,
   "id": "6452c202",
   "metadata": {},
   "outputs": [],
   "source": [
    "\n",
    "\n",
    "def transform_text(text):\n",
    "    text = text.lower() # lower case\n",
    "    text = nltk.word_tokenize(text) # tokenization\n",
    "\n",
    "    y = []\n",
    "    for i in text:\n",
    "        if i.isalnum(): # removing special characters but keeping alphanumeric characters\n",
    "            y.append(i)\n",
    "\n",
    "    text = y[:]\n",
    "    y.clear()\n",
    "\n",
    "    # removing stop words and puntuation\n",
    "    for i in text:\n",
    "        if i not in stopwords.words('english') and i not in string.punctuation:\n",
    "            y.append(i)\n",
    "\n",
    "    # stemming\n",
    "    text = y[:]\n",
    "    y.clear()\n",
    "    ps = PorterStemmer()\n",
    "\n",
    "    for i in text:\n",
    "        y.append(ps.stem(i))\n",
    "\n",
    "    return \" \".join(y)"
   ]
  },
  {
   "cell_type": "code",
   "execution_count": 31,
   "id": "32a8b05b",
   "metadata": {},
   "outputs": [
    {
     "name": "stderr",
     "output_type": "stream",
     "text": [
      "[nltk_data] Downloading package stopwords to\n",
      "[nltk_data]     C:\\Users\\indra\\AppData\\Roaming\\nltk_data...\n",
      "[nltk_data]   Package stopwords is already up-to-date!\n"
     ]
    },
    {
     "data": {
      "text/html": [
       "<div>\n",
       "<style scoped>\n",
       "    .dataframe tbody tr th:only-of-type {\n",
       "        vertical-align: middle;\n",
       "    }\n",
       "\n",
       "    .dataframe tbody tr th {\n",
       "        vertical-align: top;\n",
       "    }\n",
       "\n",
       "    .dataframe thead th {\n",
       "        text-align: right;\n",
       "    }\n",
       "</style>\n",
       "<table border=\"1\" class=\"dataframe\">\n",
       "  <thead>\n",
       "    <tr style=\"text-align: right;\">\n",
       "      <th></th>\n",
       "      <th>text</th>\n",
       "      <th>num_char</th>\n",
       "      <th>num_words</th>\n",
       "      <th>num_sent</th>\n",
       "      <th>transformed_text</th>\n",
       "    </tr>\n",
       "  </thead>\n",
       "  <tbody>\n",
       "    <tr>\n",
       "      <th>4228</th>\n",
       "      <td>Have you bookedthe hut? And also your time off...</td>\n",
       "      <td>71</td>\n",
       "      <td>18</td>\n",
       "      <td>3</td>\n",
       "      <td>bookedth hut also time way</td>\n",
       "    </tr>\n",
       "    <tr>\n",
       "      <th>3061</th>\n",
       "      <td>Fine. Do you remember me.</td>\n",
       "      <td>25</td>\n",
       "      <td>7</td>\n",
       "      <td>2</td>\n",
       "      <td>fine rememb</td>\n",
       "    </tr>\n",
       "    <tr>\n",
       "      <th>3345</th>\n",
       "      <td>U're welcome... Caught u using broken english ...</td>\n",
       "      <td>54</td>\n",
       "      <td>11</td>\n",
       "      <td>2</td>\n",
       "      <td>u welcom caught u use broken english</td>\n",
       "    </tr>\n",
       "    <tr>\n",
       "      <th>3463</th>\n",
       "      <td>My phone</td>\n",
       "      <td>8</td>\n",
       "      <td>2</td>\n",
       "      <td>1</td>\n",
       "      <td>phone</td>\n",
       "    </tr>\n",
       "    <tr>\n",
       "      <th>2649</th>\n",
       "      <td>You might want to pull out more just in case a...</td>\n",
       "      <td>157</td>\n",
       "      <td>34</td>\n",
       "      <td>1</td>\n",
       "      <td>might want pull case plan spend much confid de...</td>\n",
       "    </tr>\n",
       "  </tbody>\n",
       "</table>\n",
       "</div>"
      ],
      "text/plain": [
       "                                                   text  num_char  num_words  \\\n",
       "4228  Have you bookedthe hut? And also your time off...        71         18   \n",
       "3061                          Fine. Do you remember me.        25          7   \n",
       "3345  U're welcome... Caught u using broken english ...        54         11   \n",
       "3463                                           My phone         8          2   \n",
       "2649  You might want to pull out more just in case a...       157         34   \n",
       "\n",
       "      num_sent                                   transformed_text  \n",
       "4228         3                         bookedth hut also time way  \n",
       "3061         2                                        fine rememb  \n",
       "3345         2               u welcom caught u use broken english  \n",
       "3463         1                                              phone  \n",
       "2649         1  might want pull case plan spend much confid de...  "
      ]
     },
     "execution_count": 31,
     "metadata": {},
     "output_type": "execute_result"
    }
   ],
   "source": [
    "# alpplying all these transformations to the text column and storing it in a new column 'transformed_text' \n",
    "\n",
    "nltk.download('stopwords')\n",
    "\n",
    "X_train['transformed_text'] = X_train['text'].apply(transform_text)\n",
    "X_test['transformed_text'] = X_test['text'].apply(transform_text)\n",
    "X_train.head()\n"
   ]
  },
  {
   "cell_type": "markdown",
   "id": "54339ab9",
   "metadata": {},
   "source": [
    "## Feature Engineering\n",
    "We have to vectorise the transformed text with the help of bag of words or TF-IDF which weigh the importance of a word in a document relative to the entire dataset."
   ]
  },
  {
   "cell_type": "code",
   "execution_count": 32,
   "id": "6211b408",
   "metadata": {},
   "outputs": [],
   "source": [
    "\n",
    "cv = CountVectorizer()\n",
    "tfidf = TfidfVectorizer()"
   ]
  },
  {
   "cell_type": "markdown",
   "id": "6ff6ac6b",
   "metadata": {},
   "source": [
    "**Using TF-IDF**"
   ]
  },
  {
   "cell_type": "code",
   "execution_count": 33,
   "id": "becfe042",
   "metadata": {},
   "outputs": [],
   "source": [
    "X_train = tfidf.fit_transform(X_train['transformed_text']).toarray()\n",
    "X_test = tfidf.transform(X_test['transformed_text']).toarray()"
   ]
  },
  {
   "cell_type": "code",
   "execution_count": 34,
   "id": "54ea5ecf",
   "metadata": {},
   "outputs": [
    {
     "data": {
      "text/plain": [
       "(4135, 5921)"
      ]
     },
     "execution_count": 34,
     "metadata": {},
     "output_type": "execute_result"
    }
   ],
   "source": [
    "X_train.shape\n"
   ]
  },
  {
   "cell_type": "code",
   "execution_count": 35,
   "id": "6f8fdf21",
   "metadata": {},
   "outputs": [
    {
     "data": {
      "text/plain": [
       "(4135,)"
      ]
     },
     "execution_count": 35,
     "metadata": {},
     "output_type": "execute_result"
    }
   ],
   "source": [
    "y_train.shape"
   ]
  },
  {
   "cell_type": "markdown",
   "id": "8ac295a0",
   "metadata": {},
   "source": [
    "## Model Building/ Model Training"
   ]
  },
  {
   "cell_type": "markdown",
   "id": "5eb996ca",
   "metadata": {},
   "source": [
    "For Text detection, the best model is Naive Bayes so I will be testing and traing the three Naive Bayes Algorithms which are \"Gaussian Naive Bayes\", \"Multinomial Naive Bayes\" and \"Bernoulli Naive Bayes\". While also testing K nearest neighbours, SVC and logistic regression models"
   ]
  },
  {
   "cell_type": "code",
   "execution_count": 36,
   "id": "594337eb",
   "metadata": {},
   "outputs": [],
   "source": [
    "\n",
    "gnb = GaussianNB()\n",
    "mnb = MultinomialNB()\n",
    "bnb = BernoulliNB()\n",
    "knn = KNeighborsClassifier()\n",
    "svc = SVC()\n",
    "lr = LogisticRegression()\n"
   ]
  },
  {
   "cell_type": "markdown",
   "id": "56665398",
   "metadata": {},
   "source": [
    "**Naive Bayes**"
   ]
  },
  {
   "cell_type": "code",
   "execution_count": 37,
   "id": "5b855fe6",
   "metadata": {},
   "outputs": [
    {
     "name": "stdout",
     "output_type": "stream",
     "text": [
      "Gaussian Naive Bayes\n",
      "Accuracy -  0.8752417794970987\n",
      "Precision -  0.5207373271889401\n",
      "Confusion matrix - \n",
      "[[792 104]\n",
      " [ 25 113]]\n",
      "Recall -  0.8188405797101449\n",
      "F1 Score -  0.6366197183098592\n"
     ]
    }
   ],
   "source": [
    "gnb.fit(X_train, y_train)\n",
    "y_pred_gnb = gnb.predict(X_test)\n",
    "accuracy_gnb = accuracy_score(y_test, y_pred_gnb)\n",
    "precision_gnb = precision_score(y_test, y_pred_gnb)\n",
    "print(\"Gaussian Naive Bayes\")\n",
    "print(\"Accuracy - \",accuracy_gnb)\n",
    "print(\"Precision - \",precision_gnb)\n",
    "print(\"Confusion matrix - \")\n",
    "print(confusion_matrix(y_test, y_pred_gnb))\n",
    "\n",
    "print(\"Recall - \",recall_score(y_test, y_pred_gnb))\n",
    "print(\"F1 Score - \",f1_score(y_test, y_pred_gnb))"
   ]
  },
  {
   "cell_type": "code",
   "execution_count": 38,
   "id": "0d01827f",
   "metadata": {},
   "outputs": [
    {
     "name": "stdout",
     "output_type": "stream",
     "text": [
      "Multinomial Naive Bayes\n",
      "Accuracy -  0.9584139264990329\n",
      "Precision -  1.0\n",
      "Confusion matrix - \n",
      "[[896   0]\n",
      " [ 43  95]]\n",
      "Recall -  0.6884057971014492\n",
      "F1 Score -  0.8154506437768241\n"
     ]
    }
   ],
   "source": [
    "mnb.fit(X_train, y_train)\n",
    "y_pred_mnb = mnb.predict(X_test)\n",
    "accuracy_mnb = accuracy_score(y_test, y_pred_mnb)\n",
    "precision_mnb = precision_score(y_test, y_pred_mnb)\n",
    "print(\"Multinomial Naive Bayes\")\n",
    "print(\"Accuracy - \",accuracy_mnb)\n",
    "print(\"Precision - \",precision_mnb)\n",
    "print(\"Confusion matrix - \")\n",
    "print(confusion_matrix(y_test, y_pred_mnb))\n",
    "\n",
    "print(\"Recall - \",recall_score(y_test, y_pred_mnb))\n",
    "print(\"F1 Score - \",f1_score(y_test, y_pred_mnb))"
   ]
  },
  {
   "cell_type": "code",
   "execution_count": 39,
   "id": "a0514abc",
   "metadata": {},
   "outputs": [
    {
     "name": "stdout",
     "output_type": "stream",
     "text": [
      "Bernoulli Naive Bayes\n",
      "Accuracy -  0.965183752417795\n",
      "Precision -  1.0\n",
      "Confusion matrix - \n",
      "[[896   0]\n",
      " [ 36 102]]\n",
      "Recall -  0.7391304347826086\n",
      "F1 Score -  0.85\n"
     ]
    }
   ],
   "source": [
    "bnb.fit(X_train, y_train)\n",
    "y_pred_bnb = bnb.predict(X_test)\n",
    "accuracy_bnb = accuracy_score(y_test, y_pred_bnb)\n",
    "precision_bnb = precision_score(y_test, y_pred_bnb)\n",
    "print(\"Bernoulli Naive Bayes\")\n",
    "print(\"Accuracy - \",accuracy_bnb)\n",
    "print(\"Precision - \",precision_bnb)\n",
    "print(\"Confusion matrix - \")\n",
    "print(confusion_matrix(y_test, y_pred_bnb))\n",
    "\n",
    "print(\"Recall - \",recall_score(y_test, y_pred_bnb))\n",
    "print(\"F1 Score - \",f1_score(y_test, y_pred_bnb))"
   ]
  },
  {
   "cell_type": "markdown",
   "id": "51e8e59e",
   "metadata": {},
   "source": [
    "**KNN**"
   ]
  },
  {
   "cell_type": "code",
   "execution_count": 40,
   "id": "031a0445",
   "metadata": {},
   "outputs": [
    {
     "name": "stdout",
     "output_type": "stream",
     "text": [
      "K Nearest Neighbors\n",
      "Accuracy -  0.9052224371373307\n",
      "Precision -  1.0\n",
      "Confusion matrix - \n",
      "[[896   0]\n",
      " [ 98  40]]\n",
      "Recall -  0.2898550724637681\n",
      "F1 Score -  0.449438202247191\n"
     ]
    }
   ],
   "source": [
    "## KNN\n",
    "knn.fit(X_train, y_train)\n",
    "y_pred_knn = knn.predict(X_test)\n",
    "accuracy_knn = accuracy_score(y_test, y_pred_knn)\n",
    "precision_knn = precision_score(y_test, y_pred_knn)\n",
    "\n",
    "print(\"K Nearest Neighbors\")\n",
    "print(\"Accuracy - \",accuracy_knn)\n",
    "print(\"Precision - \",precision_knn)\n",
    "print(\"Confusion matrix - \")\n",
    "print(confusion_matrix(y_test, y_pred_knn))\n",
    "\n",
    "print(\"Recall - \",recall_score(y_test, y_pred_knn))\n",
    "print(\"F1 Score - \",f1_score(y_test, y_pred_knn))\n"
   ]
  },
  {
   "cell_type": "markdown",
   "id": "f1de1d01",
   "metadata": {},
   "source": [
    "**SVC**"
   ]
  },
  {
   "cell_type": "code",
   "execution_count": 41,
   "id": "07608325",
   "metadata": {},
   "outputs": [
    {
     "name": "stdout",
     "output_type": "stream",
     "text": [
      "Support Vector Classifier\n",
      "Accuracy -  0.9748549323017408\n",
      "Precision -  0.9827586206896551\n",
      "Confusion matrix - \n",
      "[[894   2]\n",
      " [ 24 114]]\n",
      "Recall -  0.8260869565217391\n",
      "F1 Score -  0.8976377952755905\n"
     ]
    }
   ],
   "source": [
    "\n",
    "svc.fit(X_train, y_train)\n",
    "y_pred_svc = svc.predict(X_test)\n",
    "accuracy_svc = accuracy_score(y_test, y_pred_svc)\n",
    "precision_svc = precision_score(y_test, y_pred_svc)\n",
    "\n",
    "print(\"Support Vector Classifier\")\n",
    "print(\"Accuracy - \",accuracy_svc)\n",
    "print(\"Precision - \",precision_svc)\n",
    "print(\"Confusion matrix - \")\n",
    "print(confusion_matrix(y_test, y_pred_svc))\n",
    "\n",
    "print(\"Recall - \",recall_score(y_test, y_pred_svc))\n",
    "print(\"F1 Score - \",f1_score(y_test, y_pred_svc))\n"
   ]
  },
  {
   "cell_type": "markdown",
   "id": "caaa3538",
   "metadata": {},
   "source": [
    "**Logistic Regression**"
   ]
  },
  {
   "cell_type": "code",
   "execution_count": 42,
   "id": "8be2cb02",
   "metadata": {},
   "outputs": [
    {
     "name": "stdout",
     "output_type": "stream",
     "text": [
      "Logistic Regression\n",
      "Accuracy -  0.9584139264990329\n",
      "Precision -  0.9797979797979798\n",
      "Confusion matrix - \n",
      "[[894   2]\n",
      " [ 41  97]]\n",
      "Precision -  0.9797979797979798\n",
      "Recall -  0.7028985507246377\n",
      "F1 Score -  0.8185654008438819\n"
     ]
    }
   ],
   "source": [
    "#Logistic Regression\n",
    "lr.fit(X_train, y_train)\n",
    "y_pred_lr = lr.predict(X_test)\n",
    "accuracy_lr = accuracy_score(y_test, y_pred_lr)\n",
    "precision_lr = precision_score(y_test, y_pred_lr)\n",
    "\n",
    "print(\"Logistic Regression\")\n",
    "print(\"Accuracy - \",accuracy_lr)\n",
    "print(\"Precision - \",precision_lr)\n",
    "print(\"Confusion matrix - \")\n",
    "print(confusion_matrix(y_test, y_pred_lr))\n",
    "print(\"Precision - \",precision_score(y_test, y_pred_lr))\n",
    "print(\"Recall - \",recall_score(y_test, y_pred_lr))\n",
    "print(\"F1 Score - \",f1_score(y_test, y_pred_lr))\n"
   ]
  },
  {
   "cell_type": "markdown",
   "id": "c50e5994",
   "metadata": {},
   "source": [
    "## Model Evaluation"
   ]
  },
  {
   "cell_type": "code",
   "execution_count": 43,
   "id": "097a0dfb",
   "metadata": {},
   "outputs": [
    {
     "data": {
      "text/html": [
       "<div>\n",
       "<style scoped>\n",
       "    .dataframe tbody tr th:only-of-type {\n",
       "        vertical-align: middle;\n",
       "    }\n",
       "\n",
       "    .dataframe tbody tr th {\n",
       "        vertical-align: top;\n",
       "    }\n",
       "\n",
       "    .dataframe thead th {\n",
       "        text-align: right;\n",
       "    }\n",
       "</style>\n",
       "<table border=\"1\" class=\"dataframe\">\n",
       "  <thead>\n",
       "    <tr style=\"text-align: right;\">\n",
       "      <th></th>\n",
       "      <th>Model</th>\n",
       "      <th>Precision</th>\n",
       "      <th>Accuracy</th>\n",
       "    </tr>\n",
       "  </thead>\n",
       "  <tbody>\n",
       "    <tr>\n",
       "      <th>1</th>\n",
       "      <td>Multinomial Naive Bayes</td>\n",
       "      <td>1.000000</td>\n",
       "      <td>0.958414</td>\n",
       "    </tr>\n",
       "    <tr>\n",
       "      <th>2</th>\n",
       "      <td>Bernoulli Naive Bayes</td>\n",
       "      <td>1.000000</td>\n",
       "      <td>0.965184</td>\n",
       "    </tr>\n",
       "    <tr>\n",
       "      <th>3</th>\n",
       "      <td>K Nearest Neighbors</td>\n",
       "      <td>1.000000</td>\n",
       "      <td>0.905222</td>\n",
       "    </tr>\n",
       "    <tr>\n",
       "      <th>4</th>\n",
       "      <td>Support Vector Classifier</td>\n",
       "      <td>0.982759</td>\n",
       "      <td>0.974855</td>\n",
       "    </tr>\n",
       "    <tr>\n",
       "      <th>5</th>\n",
       "      <td>Logistic Regression</td>\n",
       "      <td>0.979798</td>\n",
       "      <td>0.958414</td>\n",
       "    </tr>\n",
       "    <tr>\n",
       "      <th>0</th>\n",
       "      <td>Gaussian Naive Bayes</td>\n",
       "      <td>0.520737</td>\n",
       "      <td>0.875242</td>\n",
       "    </tr>\n",
       "  </tbody>\n",
       "</table>\n",
       "</div>"
      ],
      "text/plain": [
       "                       Model  Precision  Accuracy\n",
       "1    Multinomial Naive Bayes   1.000000  0.958414\n",
       "2      Bernoulli Naive Bayes   1.000000  0.965184\n",
       "3        K Nearest Neighbors   1.000000  0.905222\n",
       "4  Support Vector Classifier   0.982759  0.974855\n",
       "5        Logistic Regression   0.979798  0.958414\n",
       "0       Gaussian Naive Bayes   0.520737  0.875242"
      ]
     },
     "execution_count": 43,
     "metadata": {},
     "output_type": "execute_result"
    }
   ],
   "source": [
    "performance = {'Model': ['Gaussian Naive Bayes', 'Multinomial Naive Bayes', 'Bernoulli Naive Bayes', 'K Nearest Neighbors', 'Support Vector Classifier', 'Logistic Regression'],\n",
    "               'Precision': [precision_gnb, precision_mnb, precision_bnb, precision_knn, precision_svc, precision_lr],\n",
    "               'Accuracy': [accuracy_gnb, accuracy_mnb, accuracy_bnb, accuracy_knn, accuracy_svc, accuracy_lr] }\n",
    "performance_df = pd.DataFrame(performance)\n",
    "performance_df.sort_values(by='Precision', ascending=False, inplace=True)\n",
    "performance_df"
   ]
  },
  {
   "cell_type": "markdown",
   "id": "b6cd6fa3",
   "metadata": {},
   "source": [
    "After evaluating all the algorithms and trying to find the best performing Model based on precision. It is clear that Multinomial Naive Bayes, Bernoulli Naive Bayes and KNN are the best model for this task.\n",
    "Although, acurracy is not the most important for an imbalances dataset like this but still I will be choosing Bernoulli Naive Bayes as It has a precision score of 1 and accuracy of 96.5%."
   ]
  },
  {
   "cell_type": "code",
   "execution_count": 44,
   "id": "3953d528",
   "metadata": {},
   "outputs": [
    {
     "name": "stdout",
     "output_type": "stream",
     "text": [
      "Yes, my reg is  Ciao!\n",
      "[[0. 0. 0. ... 0. 0. 0.]]\n",
      "[0]\n",
      "Not Spam\n"
     ]
    }
   ],
   "source": [
    "# Sample a mail from the test set using the original DataFrame\n",
    "sample_idx = y_test.sample(1).index[0]\n",
    "input_mail = X.loc[sample_idx, 'text']\n",
    "print(input_mail)\n",
    "\n",
    "transformed_mail = [transform_text(input_mail)]\n",
    "vectorized_mail = tfidf.transform(transformed_mail).toarray()\n",
    "print(vectorized_mail)\n",
    "\n",
    "prediction = bnb.predict(vectorized_mail)\n",
    "print(prediction)\n",
    "if prediction[0] == 1:\n",
    "    print(\"Spam\")  \n",
    "else:\n",
    "    print(\"Not Spam\")   \n"
   ]
  },
  {
   "cell_type": "markdown",
   "id": "3ca69ee7",
   "metadata": {},
   "source": [
    "# Final discussion, strengths & limitations, recommendations\n",
    "\n",
    "**Strengths**\n",
    "\n",
    "1. The model is able to identify all the 'spam' messages as spam with 100% precision.\n",
    "2. It has an accuracy of 96.52% which means that majority of 'ham' messages are also labled as ham. \n",
    "3. The confusion matrix shows a very less false positives.\n",
    "4. The pipeline is simple and explainable.\n",
    "\n",
    "**Weakness**\n",
    "1. The accuracy could be higher.\n",
    "2. Hyperparameter adjustments could be done to increase the detection of false positives to make the model even more robust.\n",
    "3. The data could have been used to train more models like random forest etc.\n",
    "\n",
    "**Conclusion and Final Discussions**\n",
    "\n",
    "In Conclusion, The model is robust and simple as it can identify 'spam' messages with a precision score of 1. While using bag of words(Count vectoriser), the model had low precision and accuracy so, Tf-Idf vectoriser was used.  The model can be scaled after some hyperparameter tuning to increase the accuracy of the model aswell and if it is made into a website for people to use."
   ]
  }
 ],
 "metadata": {
  "kernelspec": {
   "display_name": ".venv",
   "language": "python",
   "name": "python3"
  },
  "language_info": {
   "codemirror_mode": {
    "name": "ipython",
    "version": 3
   },
   "file_extension": ".py",
   "mimetype": "text/x-python",
   "name": "python",
   "nbconvert_exporter": "python",
   "pygments_lexer": "ipython3",
   "version": "3.13.7"
  }
 },
 "nbformat": 4,
 "nbformat_minor": 5
}
